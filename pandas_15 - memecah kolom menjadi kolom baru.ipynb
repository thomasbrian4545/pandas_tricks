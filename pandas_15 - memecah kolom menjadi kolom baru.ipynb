{
 "cells": [
  {
   "cell_type": "code",
   "execution_count": 1,
   "metadata": {},
   "outputs": [],
   "source": [
    "import pandas as pd"
   ]
  },
  {
   "cell_type": "code",
   "execution_count": 2,
   "metadata": {},
   "outputs": [
    {
     "data": {
      "text/html": [
       "<div>\n",
       "<style scoped>\n",
       "    .dataframe tbody tr th:only-of-type {\n",
       "        vertical-align: middle;\n",
       "    }\n",
       "\n",
       "    .dataframe tbody tr th {\n",
       "        vertical-align: top;\n",
       "    }\n",
       "\n",
       "    .dataframe thead th {\n",
       "        text-align: right;\n",
       "    }\n",
       "</style>\n",
       "<table border=\"1\" class=\"dataframe\">\n",
       "  <thead>\n",
       "    <tr style=\"text-align: right;\">\n",
       "      <th></th>\n",
       "      <th>nama_lengkap</th>\n",
       "      <th>tempat_lahir</th>\n",
       "    </tr>\n",
       "  </thead>\n",
       "  <tbody>\n",
       "    <tr>\n",
       "      <th>0</th>\n",
       "      <td>Thomas Brian</td>\n",
       "      <td>Tulungagung, Jawa Timur</td>\n",
       "    </tr>\n",
       "    <tr>\n",
       "      <th>1</th>\n",
       "      <td>Dewi Sartika</td>\n",
       "      <td>Salappa, Mentawai</td>\n",
       "    </tr>\n",
       "    <tr>\n",
       "      <th>2</th>\n",
       "      <td>Camilla Ava</td>\n",
       "      <td>Sidoarjo, Jawa Timur</td>\n",
       "    </tr>\n",
       "  </tbody>\n",
       "</table>\n",
       "</div>"
      ],
      "text/plain": [
       "   nama_lengkap             tempat_lahir\n",
       "0  Thomas Brian  Tulungagung, Jawa Timur\n",
       "1  Dewi Sartika        Salappa, Mentawai\n",
       "2   Camilla Ava     Sidoarjo, Jawa Timur"
      ]
     },
     "execution_count": 2,
     "metadata": {},
     "output_type": "execute_result"
    }
   ],
   "source": [
    "data = {'nama_lengkap' : ['Thomas Brian', 'Dewi Sartika', 'Camilla Ava'],\n",
    "        'tempat_lahir' : ['Tulungagung, Jawa Timur', 'Salappa, Mentawai', 'Sidoarjo, Jawa Timur']}\n",
    "\n",
    "df = pd.DataFrame(data)\n",
    "df"
   ]
  },
  {
   "cell_type": "code",
   "execution_count": 6,
   "metadata": {},
   "outputs": [
    {
     "data": {
      "text/html": [
       "<div>\n",
       "<style scoped>\n",
       "    .dataframe tbody tr th:only-of-type {\n",
       "        vertical-align: middle;\n",
       "    }\n",
       "\n",
       "    .dataframe tbody tr th {\n",
       "        vertical-align: top;\n",
       "    }\n",
       "\n",
       "    .dataframe thead th {\n",
       "        text-align: right;\n",
       "    }\n",
       "</style>\n",
       "<table border=\"1\" class=\"dataframe\">\n",
       "  <thead>\n",
       "    <tr style=\"text-align: right;\">\n",
       "      <th></th>\n",
       "      <th>nama_lengkap</th>\n",
       "      <th>tempat_lahir</th>\n",
       "      <th>nama_depan</th>\n",
       "      <th>nama_belakang</th>\n",
       "    </tr>\n",
       "  </thead>\n",
       "  <tbody>\n",
       "    <tr>\n",
       "      <th>0</th>\n",
       "      <td>Thomas Brian</td>\n",
       "      <td>Tulungagung, Jawa Timur</td>\n",
       "      <td>Thomas</td>\n",
       "      <td>Brian</td>\n",
       "    </tr>\n",
       "    <tr>\n",
       "      <th>1</th>\n",
       "      <td>Dewi Sartika</td>\n",
       "      <td>Salappa, Mentawai</td>\n",
       "      <td>Dewi</td>\n",
       "      <td>Sartika</td>\n",
       "    </tr>\n",
       "    <tr>\n",
       "      <th>2</th>\n",
       "      <td>Camilla Ava</td>\n",
       "      <td>Sidoarjo, Jawa Timur</td>\n",
       "      <td>Camilla</td>\n",
       "      <td>Ava</td>\n",
       "    </tr>\n",
       "  </tbody>\n",
       "</table>\n",
       "</div>"
      ],
      "text/plain": [
       "   nama_lengkap             tempat_lahir nama_depan nama_belakang\n",
       "0  Thomas Brian  Tulungagung, Jawa Timur     Thomas         Brian\n",
       "1  Dewi Sartika        Salappa, Mentawai       Dewi       Sartika\n",
       "2   Camilla Ava     Sidoarjo, Jawa Timur    Camilla           Ava"
      ]
     },
     "execution_count": 6,
     "metadata": {},
     "output_type": "execute_result"
    }
   ],
   "source": [
    "df[['nama_depan', 'nama_belakang']] = df['nama_lengkap'].str.split(' ', expand=True)\n",
    "df"
   ]
  },
  {
   "cell_type": "code",
   "execution_count": 7,
   "metadata": {},
   "outputs": [
    {
     "data": {
      "text/html": [
       "<div>\n",
       "<style scoped>\n",
       "    .dataframe tbody tr th:only-of-type {\n",
       "        vertical-align: middle;\n",
       "    }\n",
       "\n",
       "    .dataframe tbody tr th {\n",
       "        vertical-align: top;\n",
       "    }\n",
       "\n",
       "    .dataframe thead th {\n",
       "        text-align: right;\n",
       "    }\n",
       "</style>\n",
       "<table border=\"1\" class=\"dataframe\">\n",
       "  <thead>\n",
       "    <tr style=\"text-align: right;\">\n",
       "      <th></th>\n",
       "      <th>nama_lengkap</th>\n",
       "      <th>tempat_lahir</th>\n",
       "      <th>nama_depan</th>\n",
       "      <th>nama_belakang</th>\n",
       "      <th>kota</th>\n",
       "      <th>Provinsi</th>\n",
       "    </tr>\n",
       "  </thead>\n",
       "  <tbody>\n",
       "    <tr>\n",
       "      <th>0</th>\n",
       "      <td>Thomas Brian</td>\n",
       "      <td>Tulungagung, Jawa Timur</td>\n",
       "      <td>Thomas</td>\n",
       "      <td>Brian</td>\n",
       "      <td>Tulungagung</td>\n",
       "      <td>Jawa Timur</td>\n",
       "    </tr>\n",
       "    <tr>\n",
       "      <th>1</th>\n",
       "      <td>Dewi Sartika</td>\n",
       "      <td>Salappa, Mentawai</td>\n",
       "      <td>Dewi</td>\n",
       "      <td>Sartika</td>\n",
       "      <td>Salappa</td>\n",
       "      <td>Mentawai</td>\n",
       "    </tr>\n",
       "    <tr>\n",
       "      <th>2</th>\n",
       "      <td>Camilla Ava</td>\n",
       "      <td>Sidoarjo, Jawa Timur</td>\n",
       "      <td>Camilla</td>\n",
       "      <td>Ava</td>\n",
       "      <td>Sidoarjo</td>\n",
       "      <td>Jawa Timur</td>\n",
       "    </tr>\n",
       "  </tbody>\n",
       "</table>\n",
       "</div>"
      ],
      "text/plain": [
       "   nama_lengkap             tempat_lahir nama_depan nama_belakang  \\\n",
       "0  Thomas Brian  Tulungagung, Jawa Timur     Thomas         Brian   \n",
       "1  Dewi Sartika        Salappa, Mentawai       Dewi       Sartika   \n",
       "2   Camilla Ava     Sidoarjo, Jawa Timur    Camilla           Ava   \n",
       "\n",
       "          kota     Provinsi  \n",
       "0  Tulungagung   Jawa Timur  \n",
       "1      Salappa     Mentawai  \n",
       "2     Sidoarjo   Jawa Timur  "
      ]
     },
     "execution_count": 7,
     "metadata": {},
     "output_type": "execute_result"
    }
   ],
   "source": [
    "df[['kota', 'Provinsi']] = df['tempat_lahir'].str.split(',', expand=True)\n",
    "df"
   ]
  }
 ],
 "metadata": {
  "kernelspec": {
   "display_name": "base",
   "language": "python",
   "name": "python3"
  },
  "language_info": {
   "codemirror_mode": {
    "name": "ipython",
    "version": 3
   },
   "file_extension": ".py",
   "mimetype": "text/x-python",
   "name": "python",
   "nbconvert_exporter": "python",
   "pygments_lexer": "ipython3",
   "version": "3.11.7"
  },
  "orig_nbformat": 4
 },
 "nbformat": 4,
 "nbformat_minor": 2
}
