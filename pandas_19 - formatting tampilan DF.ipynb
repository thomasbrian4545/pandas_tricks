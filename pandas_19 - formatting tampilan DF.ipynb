{
 "cells": [
  {
   "cell_type": "code",
   "execution_count": 11,
   "metadata": {},
   "outputs": [],
   "source": [
    "import pandas as pd \n",
    "import numpy as np "
   ]
  },
  {
   "cell_type": "code",
   "execution_count": 12,
   "metadata": {},
   "outputs": [
    {
     "data": {
      "text/html": [
       "<div>\n",
       "<style scoped>\n",
       "    .dataframe tbody tr th:only-of-type {\n",
       "        vertical-align: middle;\n",
       "    }\n",
       "\n",
       "    .dataframe tbody tr th {\n",
       "        vertical-align: top;\n",
       "    }\n",
       "\n",
       "    .dataframe thead th {\n",
       "        text-align: right;\n",
       "    }\n",
       "</style>\n",
       "<table border=\"1\" class=\"dataframe\">\n",
       "  <thead>\n",
       "    <tr style=\"text-align: right;\">\n",
       "      <th></th>\n",
       "      <th>omset</th>\n",
       "      <th>operasional</th>\n",
       "    </tr>\n",
       "  </thead>\n",
       "  <tbody>\n",
       "    <tr>\n",
       "      <th>0</th>\n",
       "      <td>5</td>\n",
       "      <td>4</td>\n",
       "    </tr>\n",
       "    <tr>\n",
       "      <th>1</th>\n",
       "      <td>12</td>\n",
       "      <td>17</td>\n",
       "    </tr>\n",
       "    <tr>\n",
       "      <th>2</th>\n",
       "      <td>18</td>\n",
       "      <td>19</td>\n",
       "    </tr>\n",
       "    <tr>\n",
       "      <th>3</th>\n",
       "      <td>5</td>\n",
       "      <td>6</td>\n",
       "    </tr>\n",
       "    <tr>\n",
       "      <th>4</th>\n",
       "      <td>7</td>\n",
       "      <td>13</td>\n",
       "    </tr>\n",
       "  </tbody>\n",
       "</table>\n",
       "</div>"
      ],
      "text/plain": [
       "   omset  operasional\n",
       "0      5            4\n",
       "1     12           17\n",
       "2     18           19\n",
       "3      5            6\n",
       "4      7           13"
      ]
     },
     "execution_count": 12,
     "metadata": {},
     "output_type": "execute_result"
    }
   ],
   "source": [
    "# persiapan DF\n",
    "n_rows = 5\n",
    "n_cols = 2\n",
    "cols = ['omset', 'operasional']\n",
    "\n",
    "df = pd.DataFrame(np.random.randint(1, 20, size=(n_rows, n_cols)), \n",
    "                  columns=cols)\n",
    "df"
   ]
  },
  {
   "cell_type": "code",
   "execution_count": 13,
   "metadata": {},
   "outputs": [
    {
     "data": {
      "text/html": [
       "<div>\n",
       "<style scoped>\n",
       "    .dataframe tbody tr th:only-of-type {\n",
       "        vertical-align: middle;\n",
       "    }\n",
       "\n",
       "    .dataframe tbody tr th {\n",
       "        vertical-align: top;\n",
       "    }\n",
       "\n",
       "    .dataframe thead th {\n",
       "        text-align: right;\n",
       "    }\n",
       "</style>\n",
       "<table border=\"1\" class=\"dataframe\">\n",
       "  <thead>\n",
       "    <tr style=\"text-align: right;\">\n",
       "      <th></th>\n",
       "      <th>omset</th>\n",
       "      <th>operasional</th>\n",
       "    </tr>\n",
       "  </thead>\n",
       "  <tbody>\n",
       "    <tr>\n",
       "      <th>0</th>\n",
       "      <td>500000</td>\n",
       "      <td>40000</td>\n",
       "    </tr>\n",
       "    <tr>\n",
       "      <th>1</th>\n",
       "      <td>1200000</td>\n",
       "      <td>170000</td>\n",
       "    </tr>\n",
       "    <tr>\n",
       "      <th>2</th>\n",
       "      <td>1800000</td>\n",
       "      <td>190000</td>\n",
       "    </tr>\n",
       "    <tr>\n",
       "      <th>3</th>\n",
       "      <td>500000</td>\n",
       "      <td>60000</td>\n",
       "    </tr>\n",
       "    <tr>\n",
       "      <th>4</th>\n",
       "      <td>700000</td>\n",
       "      <td>130000</td>\n",
       "    </tr>\n",
       "  </tbody>\n",
       "</table>\n",
       "</div>"
      ],
      "text/plain": [
       "     omset  operasional\n",
       "0   500000        40000\n",
       "1  1200000       170000\n",
       "2  1800000       190000\n",
       "3   500000        60000\n",
       "4   700000       130000"
      ]
     },
     "execution_count": 13,
     "metadata": {},
     "output_type": "execute_result"
    }
   ],
   "source": [
    "df['omset'] = df['omset'] * 100_000\n",
    "df['operasional'] = df['operasional'] * 10_000\n",
    "df"
   ]
  },
  {
   "cell_type": "code",
   "execution_count": 14,
   "metadata": {},
   "outputs": [
    {
     "data": {
      "text/html": [
       "<style type=\"text/css\">\n",
       "</style>\n",
       "<table id=\"T_8015b\">\n",
       "  <caption>Data Omset dan Operasional</caption>\n",
       "  <thead>\n",
       "    <tr>\n",
       "      <th class=\"blank level0\" >&nbsp;</th>\n",
       "      <th id=\"T_8015b_level0_col0\" class=\"col_heading level0 col0\" >omset</th>\n",
       "      <th id=\"T_8015b_level0_col1\" class=\"col_heading level0 col1\" >operasional</th>\n",
       "    </tr>\n",
       "  </thead>\n",
       "  <tbody>\n",
       "    <tr>\n",
       "      <th id=\"T_8015b_level0_row0\" class=\"row_heading level0 row0\" >0</th>\n",
       "      <td id=\"T_8015b_row0_col0\" class=\"data row0 col0\" >Rp 500000.00</td>\n",
       "      <td id=\"T_8015b_row0_col1\" class=\"data row0 col1\" >Rp 40000.00</td>\n",
       "    </tr>\n",
       "    <tr>\n",
       "      <th id=\"T_8015b_level0_row1\" class=\"row_heading level0 row1\" >1</th>\n",
       "      <td id=\"T_8015b_row1_col0\" class=\"data row1 col0\" >Rp 1200000.00</td>\n",
       "      <td id=\"T_8015b_row1_col1\" class=\"data row1 col1\" >Rp 170000.00</td>\n",
       "    </tr>\n",
       "    <tr>\n",
       "      <th id=\"T_8015b_level0_row2\" class=\"row_heading level0 row2\" >2</th>\n",
       "      <td id=\"T_8015b_row2_col0\" class=\"data row2 col0\" >Rp 1800000.00</td>\n",
       "      <td id=\"T_8015b_row2_col1\" class=\"data row2 col1\" >Rp 190000.00</td>\n",
       "    </tr>\n",
       "    <tr>\n",
       "      <th id=\"T_8015b_level0_row3\" class=\"row_heading level0 row3\" >3</th>\n",
       "      <td id=\"T_8015b_row3_col0\" class=\"data row3 col0\" >Rp 500000.00</td>\n",
       "      <td id=\"T_8015b_row3_col1\" class=\"data row3 col1\" >Rp 60000.00</td>\n",
       "    </tr>\n",
       "    <tr>\n",
       "      <th id=\"T_8015b_level0_row4\" class=\"row_heading level0 row4\" >4</th>\n",
       "      <td id=\"T_8015b_row4_col0\" class=\"data row4 col0\" >Rp 700000.00</td>\n",
       "      <td id=\"T_8015b_row4_col1\" class=\"data row4 col1\" >Rp 130000.00</td>\n",
       "    </tr>\n",
       "  </tbody>\n",
       "</table>\n"
      ],
      "text/plain": [
       "<pandas.io.formats.style.Styler at 0x1d5ca5ffa50>"
      ]
     },
     "execution_count": 14,
     "metadata": {},
     "output_type": "execute_result"
    }
   ],
   "source": [
    "# melakukan formatting pada DF\n",
    "laporan = df.style.format({\n",
    "    'omset' : 'Rp {:.2f}',\n",
    "    'operasional' : 'Rp {:.2f}'\n",
    "})\n",
    "laporan.set_caption('Data Omset dan Operasional')"
   ]
  },
  {
   "cell_type": "code",
   "execution_count": 15,
   "metadata": {},
   "outputs": [
    {
     "data": {
      "text/plain": [
       "pandas.io.formats.style.Styler"
      ]
     },
     "execution_count": 15,
     "metadata": {},
     "output_type": "execute_result"
    }
   ],
   "source": [
    "type(laporan)"
   ]
  },
  {
   "cell_type": "code",
   "execution_count": 16,
   "metadata": {},
   "outputs": [
    {
     "data": {
      "text/html": [
       "<style type=\"text/css\">\n",
       "</style>\n",
       "<table id=\"T_8015b\">\n",
       "  <caption>Data Omset dan Operasional</caption>\n",
       "  <thead>\n",
       "    <tr>\n",
       "      <th id=\"T_8015b_level0_col0\" class=\"col_heading level0 col0\" >omset</th>\n",
       "      <th id=\"T_8015b_level0_col1\" class=\"col_heading level0 col1\" >operasional</th>\n",
       "    </tr>\n",
       "  </thead>\n",
       "  <tbody>\n",
       "    <tr>\n",
       "      <td id=\"T_8015b_row0_col0\" class=\"data row0 col0\" >Rp 500000.00</td>\n",
       "      <td id=\"T_8015b_row0_col1\" class=\"data row0 col1\" >Rp 40000.00</td>\n",
       "    </tr>\n",
       "    <tr>\n",
       "      <td id=\"T_8015b_row1_col0\" class=\"data row1 col0\" >Rp 1200000.00</td>\n",
       "      <td id=\"T_8015b_row1_col1\" class=\"data row1 col1\" >Rp 170000.00</td>\n",
       "    </tr>\n",
       "    <tr>\n",
       "      <td id=\"T_8015b_row2_col0\" class=\"data row2 col0\" >Rp 1800000.00</td>\n",
       "      <td id=\"T_8015b_row2_col1\" class=\"data row2 col1\" >Rp 190000.00</td>\n",
       "    </tr>\n",
       "    <tr>\n",
       "      <td id=\"T_8015b_row3_col0\" class=\"data row3 col0\" >Rp 500000.00</td>\n",
       "      <td id=\"T_8015b_row3_col1\" class=\"data row3 col1\" >Rp 60000.00</td>\n",
       "    </tr>\n",
       "    <tr>\n",
       "      <td id=\"T_8015b_row4_col0\" class=\"data row4 col0\" >Rp 700000.00</td>\n",
       "      <td id=\"T_8015b_row4_col1\" class=\"data row4 col1\" >Rp 130000.00</td>\n",
       "    </tr>\n",
       "  </tbody>\n",
       "</table>\n"
      ],
      "text/plain": [
       "<pandas.io.formats.style.Styler at 0x1d5ca5ffa50>"
      ]
     },
     "execution_count": 16,
     "metadata": {},
     "output_type": "execute_result"
    }
   ],
   "source": [
    "laporan.hide()"
   ]
  },
  {
   "cell_type": "code",
   "execution_count": 17,
   "metadata": {},
   "outputs": [
    {
     "data": {
      "text/html": [
       "<style type=\"text/css\">\n",
       "#T_8015b_row0_col0, #T_8015b_row3_col0 {\n",
       "  background-color: pink;\n",
       "}\n",
       "#T_8015b_row0_col1 {\n",
       "  background-color: lightblue;\n",
       "}\n",
       "#T_8015b_row2_col0 {\n",
       "  background-color: lightgreen;\n",
       "}\n",
       "#T_8015b_row2_col1 {\n",
       "  background-color: grey;\n",
       "}\n",
       "</style>\n",
       "<table id=\"T_8015b\">\n",
       "  <caption>Data Omset dan Operasional</caption>\n",
       "  <thead>\n",
       "    <tr>\n",
       "      <th id=\"T_8015b_level0_col0\" class=\"col_heading level0 col0\" >omset</th>\n",
       "      <th id=\"T_8015b_level0_col1\" class=\"col_heading level0 col1\" >operasional</th>\n",
       "    </tr>\n",
       "  </thead>\n",
       "  <tbody>\n",
       "    <tr>\n",
       "      <td id=\"T_8015b_row0_col0\" class=\"data row0 col0\" >Rp 500000.00</td>\n",
       "      <td id=\"T_8015b_row0_col1\" class=\"data row0 col1\" >Rp 40000.00</td>\n",
       "    </tr>\n",
       "    <tr>\n",
       "      <td id=\"T_8015b_row1_col0\" class=\"data row1 col0\" >Rp 1200000.00</td>\n",
       "      <td id=\"T_8015b_row1_col1\" class=\"data row1 col1\" >Rp 170000.00</td>\n",
       "    </tr>\n",
       "    <tr>\n",
       "      <td id=\"T_8015b_row2_col0\" class=\"data row2 col0\" >Rp 1800000.00</td>\n",
       "      <td id=\"T_8015b_row2_col1\" class=\"data row2 col1\" >Rp 190000.00</td>\n",
       "    </tr>\n",
       "    <tr>\n",
       "      <td id=\"T_8015b_row3_col0\" class=\"data row3 col0\" >Rp 500000.00</td>\n",
       "      <td id=\"T_8015b_row3_col1\" class=\"data row3 col1\" >Rp 60000.00</td>\n",
       "    </tr>\n",
       "    <tr>\n",
       "      <td id=\"T_8015b_row4_col0\" class=\"data row4 col0\" >Rp 700000.00</td>\n",
       "      <td id=\"T_8015b_row4_col1\" class=\"data row4 col1\" >Rp 130000.00</td>\n",
       "    </tr>\n",
       "  </tbody>\n",
       "</table>\n"
      ],
      "text/plain": [
       "<pandas.io.formats.style.Styler at 0x1d5ca5ffa50>"
      ]
     },
     "execution_count": 17,
     "metadata": {},
     "output_type": "execute_result"
    }
   ],
   "source": [
    "laporan.highlight_min('omset', color='pink')\n",
    "laporan.highlight_max('omset', color='lightgreen')\n",
    "\n",
    "laporan.highlight_min('operasional', color='lightblue')\n",
    "laporan.highlight_max('operasional', color='grey')"
   ]
  }
 ],
 "metadata": {
  "kernelspec": {
   "display_name": "base",
   "language": "python",
   "name": "python3"
  },
  "language_info": {
   "codemirror_mode": {
    "name": "ipython",
    "version": 3
   },
   "file_extension": ".py",
   "mimetype": "text/x-python",
   "name": "python",
   "nbconvert_exporter": "python",
   "pygments_lexer": "ipython3",
   "version": "3.11.7"
  },
  "orig_nbformat": 4
 },
 "nbformat": 4,
 "nbformat_minor": 2
}
